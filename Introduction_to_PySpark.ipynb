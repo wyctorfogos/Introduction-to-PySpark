{
  "nbformat": 4,
  "nbformat_minor": 0,
  "metadata": {
    "colab": {
      "provenance": [],
      "collapsed_sections": [],
      "authorship_tag": "ABX9TyPNPi3eYjl87UCpzeKT4yF7",
      "include_colab_link": true
    },
    "kernelspec": {
      "name": "python3",
      "display_name": "Python 3"
    },
    "language_info": {
      "name": "python"
    }
  },
  "cells": [
    {
      "cell_type": "markdown",
      "metadata": {
        "id": "view-in-github",
        "colab_type": "text"
      },
      "source": [
        "<a href=\"https://colab.research.google.com/github/wyctorfogos/Introduction-to-PySpark/blob/main/Introduction_to_PySpark.ipynb\" target=\"_parent\"><img src=\"https://colab.research.google.com/assets/colab-badge.svg\" alt=\"Open In Colab\"/></a>"
      ]
    },
    {
      "cell_type": "code",
      "source": [
        "pip install pyspark"
      ],
      "metadata": {
        "colab": {
          "base_uri": "https://localhost:8080/"
        },
        "id": "ztCM7ER0qc2r",
        "outputId": "69e538f0-b758-48f3-c335-03b607b06616"
      },
      "execution_count": 198,
      "outputs": [
        {
          "output_type": "stream",
          "name": "stdout",
          "text": [
            "Looking in indexes: https://pypi.org/simple, https://us-python.pkg.dev/colab-wheels/public/simple/\n",
            "Requirement already satisfied: pyspark in /usr/local/lib/python3.7/dist-packages (3.3.0)\n",
            "Requirement already satisfied: py4j==0.10.9.5 in /usr/local/lib/python3.7/dist-packages (from pyspark) (0.10.9.5)\n"
          ]
        }
      ]
    },
    {
      "cell_type": "code",
      "execution_count": 199,
      "metadata": {
        "id": "N-g-H5yzqRgn"
      },
      "outputs": [],
      "source": [
        "import numpy as np\n",
        "import pyspark as sp\n",
        "from pyspark.sql import SparkSession\n",
        "from pyspark.ml.classification import RandomForestClassificationModel\n",
        "from pyspark.ml.regression import RegressionModel\n"
      ]
    },
    {
      "cell_type": "code",
      "source": [
        "spark = SparkSession.builder.appName('PySpark Read CSV').getOrCreate()\n",
        "\n",
        "df = spark.read.csv('./breast-cancer.data', sep=',',\n",
        "                       inferSchema=True, header=False)"
      ],
      "metadata": {
        "id": "ODRnFYFFqu5y"
      },
      "execution_count": 200,
      "outputs": []
    },
    {
      "cell_type": "code",
      "source": [
        "df.show()\n",
        "#df = df.toPandas()\n",
        "#df.head()"
      ],
      "metadata": {
        "colab": {
          "base_uri": "https://localhost:8080/"
        },
        "id": "3zmIfuJgtzLL",
        "outputId": "2284b590-ea13-44a2-cfb4-c3be0558e078"
      },
      "execution_count": 201,
      "outputs": [
        {
          "output_type": "stream",
          "name": "stdout",
          "text": [
            "+--------------------+-----+-------+-----+---+---+---+-----+---------+---+\n",
            "|                 _c0|  _c1|    _c2|  _c3|_c4|_c5|_c6|  _c7|      _c8|_c9|\n",
            "+--------------------+-----+-------+-----+---+---+---+-----+---------+---+\n",
            "|no-recurrence-events|30-39|premeno|30-34|0-2| no|  3| left| left_low| no|\n",
            "|no-recurrence-events|40-49|premeno|20-24|0-2| no|  2|right| right_up| no|\n",
            "|no-recurrence-events|40-49|premeno|20-24|0-2| no|  2| left| left_low| no|\n",
            "|no-recurrence-events|60-69|   ge40|15-19|0-2| no|  2|right|  left_up| no|\n",
            "|no-recurrence-events|40-49|premeno|  0-4|0-2| no|  2|right|right_low| no|\n",
            "|no-recurrence-events|60-69|   ge40|15-19|0-2| no|  2| left| left_low| no|\n",
            "|no-recurrence-events|50-59|premeno|25-29|0-2| no|  2| left| left_low| no|\n",
            "|no-recurrence-events|60-69|   ge40|20-24|0-2| no|  1| left| left_low| no|\n",
            "|no-recurrence-events|40-49|premeno|50-54|0-2| no|  2| left| left_low| no|\n",
            "|no-recurrence-events|40-49|premeno|20-24|0-2| no|  2|right|  left_up| no|\n",
            "|no-recurrence-events|40-49|premeno|  0-4|0-2| no|  3| left|  central| no|\n",
            "|no-recurrence-events|50-59|   ge40|25-29|0-2| no|  2| left| left_low| no|\n",
            "|no-recurrence-events|60-69|   lt40|10-14|0-2| no|  1| left| right_up| no|\n",
            "|no-recurrence-events|50-59|   ge40|25-29|0-2| no|  3| left| right_up| no|\n",
            "|no-recurrence-events|40-49|premeno|30-34|0-2| no|  3| left|  left_up| no|\n",
            "|no-recurrence-events|60-69|   lt40|30-34|0-2| no|  1| left| left_low| no|\n",
            "|no-recurrence-events|40-49|premeno|15-19|0-2| no|  2| left| left_low| no|\n",
            "|no-recurrence-events|50-59|premeno|30-34|0-2| no|  3| left| left_low| no|\n",
            "|no-recurrence-events|60-69|   ge40|30-34|0-2| no|  3| left| left_low| no|\n",
            "|no-recurrence-events|50-59|   ge40|30-34|0-2| no|  1|right| right_up| no|\n",
            "+--------------------+-----+-------+-----+---+---+---+-----+---------+---+\n",
            "only showing top 20 rows\n",
            "\n"
          ]
        }
      ]
    },
    {
      "cell_type": "code",
      "source": [
        "print(df.columns)"
      ],
      "metadata": {
        "colab": {
          "base_uri": "https://localhost:8080/"
        },
        "id": "EtnBrQ1v4waf",
        "outputId": "73e77d0d-f952-44c0-b323-bd9618bef374"
      },
      "execution_count": 202,
      "outputs": [
        {
          "output_type": "stream",
          "name": "stdout",
          "text": [
            "['_c0', '_c1', '_c2', '_c3', '_c4', '_c5', '_c6', '_c7', '_c8', '_c9']\n"
          ]
        }
      ]
    },
    {
      "cell_type": "code",
      "source": [
        "#df= df.select('30-39', 'premeno', '30-34', '0-2', 'no5', '3', 'left', 'left_low', 'no9')\n",
        "df =  df.select('_c1','_c2','_c3','_c4','_c5','_c6','_c7','_c8','_c9')"
      ],
      "metadata": {
        "id": "ULU57TVT45H1"
      },
      "execution_count": 203,
      "outputs": []
    },
    {
      "cell_type": "code",
      "source": [
        "df.show(100)"
      ],
      "metadata": {
        "colab": {
          "base_uri": "https://localhost:8080/"
        },
        "id": "upfVGAxX5XxT",
        "outputId": "48bd3922-af87-47c7-f5fd-87ded8673753"
      },
      "execution_count": 204,
      "outputs": [
        {
          "output_type": "stream",
          "name": "stdout",
          "text": [
            "+-----+-------+-----+---+---+---+-----+---------+---+\n",
            "|  _c1|    _c2|  _c3|_c4|_c5|_c6|  _c7|      _c8|_c9|\n",
            "+-----+-------+-----+---+---+---+-----+---------+---+\n",
            "|30-39|premeno|30-34|0-2| no|  3| left| left_low| no|\n",
            "|40-49|premeno|20-24|0-2| no|  2|right| right_up| no|\n",
            "|40-49|premeno|20-24|0-2| no|  2| left| left_low| no|\n",
            "|60-69|   ge40|15-19|0-2| no|  2|right|  left_up| no|\n",
            "|40-49|premeno|  0-4|0-2| no|  2|right|right_low| no|\n",
            "|60-69|   ge40|15-19|0-2| no|  2| left| left_low| no|\n",
            "|50-59|premeno|25-29|0-2| no|  2| left| left_low| no|\n",
            "|60-69|   ge40|20-24|0-2| no|  1| left| left_low| no|\n",
            "|40-49|premeno|50-54|0-2| no|  2| left| left_low| no|\n",
            "|40-49|premeno|20-24|0-2| no|  2|right|  left_up| no|\n",
            "|40-49|premeno|  0-4|0-2| no|  3| left|  central| no|\n",
            "|50-59|   ge40|25-29|0-2| no|  2| left| left_low| no|\n",
            "|60-69|   lt40|10-14|0-2| no|  1| left| right_up| no|\n",
            "|50-59|   ge40|25-29|0-2| no|  3| left| right_up| no|\n",
            "|40-49|premeno|30-34|0-2| no|  3| left|  left_up| no|\n",
            "|60-69|   lt40|30-34|0-2| no|  1| left| left_low| no|\n",
            "|40-49|premeno|15-19|0-2| no|  2| left| left_low| no|\n",
            "|50-59|premeno|30-34|0-2| no|  3| left| left_low| no|\n",
            "|60-69|   ge40|30-34|0-2| no|  3| left| left_low| no|\n",
            "|50-59|   ge40|30-34|0-2| no|  1|right| right_up| no|\n",
            "|50-59|   ge40|40-44|0-2| no|  2| left| left_low| no|\n",
            "|60-69|   ge40|15-19|0-2| no|  2| left| left_low| no|\n",
            "|30-39|premeno|25-29|0-2| no|  2|right| left_low| no|\n",
            "|50-59|premeno|40-44|0-2| no|  2| left|  left_up| no|\n",
            "|50-59|premeno|35-39|0-2| no|  2|right|  left_up| no|\n",
            "|40-49|premeno|25-29|0-2| no|  2| left|  left_up| no|\n",
            "|50-59|premeno|20-24|0-2| no|  1| left| left_low| no|\n",
            "|60-69|   ge40|25-29|0-2| no|  3|right|  left_up| no|\n",
            "|40-49|premeno|40-44|0-2| no|  2|right| left_low| no|\n",
            "|60-69|   ge40|30-34|0-2| no|  2| left| left_low| no|\n",
            "|50-59|   ge40|40-44|0-2| no|  3|right|  left_up| no|\n",
            "|50-59|premeno|15-19|0-2| no|  2|right| left_low| no|\n",
            "|50-59|premeno|10-14|0-2| no|  3| left| left_low| no|\n",
            "|50-59|   ge40|10-14|0-2| no|  1|right|  left_up| no|\n",
            "|50-59|   ge40|10-14|0-2| no|  1| left|  left_up| no|\n",
            "|30-39|premeno|30-34|0-2| no|  2| left|  left_up| no|\n",
            "|50-59|   ge40|  0-4|0-2| no|  2| left|  central| no|\n",
            "|50-59|   ge40|15-19|0-2| no|  1|right|  central| no|\n",
            "|40-49|premeno|10-14|0-2| no|  2| left| left_low| no|\n",
            "|40-49|premeno|30-34|0-2| no|  1| left| left_low| no|\n",
            "|50-59|   ge40|20-24|0-2| no|  1|right| left_low| no|\n",
            "|60-69|   ge40|25-29|0-2| no|  2| left| left_low| no|\n",
            "|60-69|   ge40|  5-9|0-2| no|  1| left|  central| no|\n",
            "|40-49|premeno|10-14|0-2| no|  2| left|  left_up| no|\n",
            "|50-59|   ge40|50-54|0-2| no|  1|right| right_up| no|\n",
            "|50-59|   ge40|30-34|0-2| no|  1| left|  left_up| no|\n",
            "|40-49|premeno|25-29|0-2| no|  2|right| left_low| no|\n",
            "|50-59|premeno|25-29|0-2| no|  1|right|  left_up| no|\n",
            "|40-49|premeno|20-24|0-2| no|  1|right| right_up| no|\n",
            "|40-49|premeno|20-24|0-2| no|  1|right| left_low| no|\n",
            "|50-59|   lt40|15-19|0-2| no|  2| left| left_low| no|\n",
            "|30-39|premeno|20-24|0-2| no|  2| left|right_low| no|\n",
            "|50-59|premeno|15-19|0-2| no|  1| left| left_low| no|\n",
            "|70-79|   ge40|20-24|0-2| no|  3| left|  left_up| no|\n",
            "|70-79|   ge40|40-44|0-2| no|  1|right|  left_up| no|\n",
            "|70-79|   ge40|40-44|0-2| no|  1|right| right_up| no|\n",
            "|50-59|   ge40|  0-4|0-2| no|  1|right|  central| no|\n",
            "|50-59|   ge40|  5-9|0-2| no|  2|right| right_up| no|\n",
            "|60-69|   ge40|30-34|0-2| no|  1| left|  left_up| no|\n",
            "|60-69|   ge40|15-19|0-2| no|  1|right|  left_up| no|\n",
            "|40-49|premeno|20-24|0-2| no|  2| left|  central| no|\n",
            "|40-49|premeno|10-14|0-2| no|  1|right|right_low| no|\n",
            "|50-59|   ge40|  0-4|0-2| no|  1| left| left_low| no|\n",
            "|20-29|premeno|35-39|0-2| no|  2|right| right_up| no|\n",
            "|40-49|premeno|25-29|0-2| no|  1| left|right_low| no|\n",
            "|40-49|premeno|10-14|0-2| no|  1|right|  left_up| no|\n",
            "|40-49|premeno|25-29|0-2| no|  1|right|right_low| no|\n",
            "|50-59|   ge40|20-24|0-2| no|  3| left|  left_up| no|\n",
            "|50-59|   ge40|35-39|0-2| no|  3| left| left_low| no|\n",
            "|60-69|   ge40|50-54|0-2| no|  2| left| left_low| no|\n",
            "|60-69|   ge40|10-14|0-2| no|  1| left| left_low| no|\n",
            "|40-49|premeno|25-29|0-2| no|  2|right|  left_up| no|\n",
            "|60-69|   ge40|20-24|0-2| no|  2| left|  left_up| no|\n",
            "|50-59|premeno|15-19|0-2| no|  2|right|right_low| no|\n",
            "|30-39|premeno|  5-9|0-2| no|  2| left|right_low| no|\n",
            "|50-59|   ge40|10-14|0-2| no|  1| left| left_low| no|\n",
            "|50-59|   ge40|10-14|0-2| no|  2| left| left_low| no|\n",
            "|30-39|premeno|25-29|0-2| no|  1| left|  central| no|\n",
            "|50-59|premeno|25-29|0-2| no|  2| left| left_low| no|\n",
            "|40-49|premeno|25-29|0-2| no|  2|right|  central| no|\n",
            "|50-59|   ge40|10-14|0-2| no|  2|right| left_low| no|\n",
            "|60-69|   ge40|10-14|0-2| no|  1| left|  left_up| no|\n",
            "|60-69|   ge40|15-19|0-2| no|  2|right| left_low| no|\n",
            "|50-59|   ge40|15-19|0-2| no|  2|right| left_low| no|\n",
            "|40-49|premeno|20-24|0-2| no|  1| left|right_low| no|\n",
            "|50-59|   ge40|35-39|0-2| no|  3| left|  left_up| no|\n",
            "|60-69|   ge40|25-29|0-2| no|  2|right| left_low| no|\n",
            "|70-79|   ge40|  0-4|0-2| no|  1| left|right_low| no|\n",
            "|50-59|   ge40|20-24|0-2| no|  3|right|  left_up| no|\n",
            "|40-49|premeno|40-44|0-2| no|  1|right|  left_up| no|\n",
            "|30-39|premeno|  0-4|0-2| no|  2|right|  central| no|\n",
            "|50-59|   ge40|20-24|0-2| no|  3| left|  left_up| no|\n",
            "|50-59|   ge40|25-29|0-2| no|  2|right|  left_up| no|\n",
            "|60-69|   ge40|20-24|0-2| no|  2|right|  left_up| no|\n",
            "|50-59|premeno|10-14|0-2| no|  1| left| left_low| no|\n",
            "|40-49|premeno|30-34|0-2| no|  2|right|right_low| no|\n",
            "|60-69|   ge40|30-34|0-2| no|  2| left|  left_up| no|\n",
            "|60-69|   ge40|15-19|0-2| no|  2|right|  left_up| no|\n",
            "|40-49|premeno|30-34|0-2| no|  1| left| right_up| no|\n",
            "|30-39|premeno|25-29|0-2| no|  2| left| left_low| no|\n",
            "+-----+-------+-----+---+---+---+-----+---------+---+\n",
            "only showing top 100 rows\n",
            "\n"
          ]
        }
      ]
    },
    {
      "cell_type": "code",
      "source": [
        "df.printSchema()"
      ],
      "metadata": {
        "colab": {
          "base_uri": "https://localhost:8080/"
        },
        "id": "d5z_wFvM5X16",
        "outputId": "4c26f314-729a-4139-c552-0b5106f99f4b"
      },
      "execution_count": 205,
      "outputs": [
        {
          "output_type": "stream",
          "name": "stdout",
          "text": [
            "root\n",
            " |-- _c1: string (nullable = true)\n",
            " |-- _c2: string (nullable = true)\n",
            " |-- _c3: string (nullable = true)\n",
            " |-- _c4: string (nullable = true)\n",
            " |-- _c5: string (nullable = true)\n",
            " |-- _c6: integer (nullable = true)\n",
            " |-- _c7: string (nullable = true)\n",
            " |-- _c8: string (nullable = true)\n",
            " |-- _c9: string (nullable = true)\n",
            "\n"
          ]
        }
      ]
    },
    {
      "cell_type": "code",
      "source": [
        "df.groupBy('_c1').count().show()"
      ],
      "metadata": {
        "colab": {
          "base_uri": "https://localhost:8080/"
        },
        "id": "Gj0qSecy52_S",
        "outputId": "2c246f72-9eee-4c53-98db-8b0fe45b5a7f"
      },
      "execution_count": 206,
      "outputs": [
        {
          "output_type": "stream",
          "name": "stdout",
          "text": [
            "+-----+-----+\n",
            "|  _c1|count|\n",
            "+-----+-----+\n",
            "|30-39|   36|\n",
            "|20-29|    1|\n",
            "|60-69|   57|\n",
            "|40-49|   90|\n",
            "|70-79|    6|\n",
            "|50-59|   96|\n",
            "+-----+-----+\n",
            "\n"
          ]
        }
      ]
    },
    {
      "cell_type": "code",
      "source": [
        "## One way to separate the features and classes availables into the jobs"
      ],
      "metadata": {
        "id": "bBNO1nEw6Hwi"
      },
      "execution_count": 207,
      "outputs": []
    },
    {
      "cell_type": "code",
      "source": [
        "X=df.select([\"_c0\",\"_c1\",\"_c2\",\"_c3\",\"_c4\",\"_c5\",\"_c6\",\"_c7\",\"_c8\"]).show(10)"
      ],
      "metadata": {
        "colab": {
          "base_uri": "https://localhost:8080/",
          "height": 365
        },
        "id": "vUZ4VvLS1orT",
        "outputId": "1c218282-61cb-4d16-c806-c6a2f2b04c5f"
      },
      "execution_count": 208,
      "outputs": [
        {
          "output_type": "error",
          "ename": "AnalysisException",
          "evalue": "ignored",
          "traceback": [
            "\u001b[0;31m---------------------------------------------------------------------------\u001b[0m",
            "\u001b[0;31mAnalysisException\u001b[0m                         Traceback (most recent call last)",
            "\u001b[0;32m<ipython-input-208-b31632050e99>\u001b[0m in \u001b[0;36m<module>\u001b[0;34m\u001b[0m\n\u001b[0;32m----> 1\u001b[0;31m \u001b[0mX\u001b[0m\u001b[0;34m=\u001b[0m\u001b[0mdf\u001b[0m\u001b[0;34m.\u001b[0m\u001b[0mselect\u001b[0m\u001b[0;34m(\u001b[0m\u001b[0;34m[\u001b[0m\u001b[0;34m\"_c0\"\u001b[0m\u001b[0;34m,\u001b[0m\u001b[0;34m\"_c1\"\u001b[0m\u001b[0;34m,\u001b[0m\u001b[0;34m\"_c2\"\u001b[0m\u001b[0;34m,\u001b[0m\u001b[0;34m\"_c3\"\u001b[0m\u001b[0;34m,\u001b[0m\u001b[0;34m\"_c4\"\u001b[0m\u001b[0;34m,\u001b[0m\u001b[0;34m\"_c5\"\u001b[0m\u001b[0;34m,\u001b[0m\u001b[0;34m\"_c6\"\u001b[0m\u001b[0;34m,\u001b[0m\u001b[0;34m\"_c7\"\u001b[0m\u001b[0;34m,\u001b[0m\u001b[0;34m\"_c8\"\u001b[0m\u001b[0;34m]\u001b[0m\u001b[0;34m)\u001b[0m\u001b[0;34m.\u001b[0m\u001b[0mshow\u001b[0m\u001b[0;34m(\u001b[0m\u001b[0;36m10\u001b[0m\u001b[0;34m)\u001b[0m\u001b[0;34m\u001b[0m\u001b[0;34m\u001b[0m\u001b[0m\n\u001b[0m",
            "\u001b[0;32m/usr/local/lib/python3.7/dist-packages/pyspark/sql/dataframe.py\u001b[0m in \u001b[0;36mselect\u001b[0;34m(self, *cols)\u001b[0m\n\u001b[1;32m   2021\u001b[0m         \u001b[0;34m[\u001b[0m\u001b[0mRow\u001b[0m\u001b[0;34m(\u001b[0m\u001b[0mname\u001b[0m\u001b[0;34m=\u001b[0m\u001b[0;34m'Alice'\u001b[0m\u001b[0;34m,\u001b[0m \u001b[0mage\u001b[0m\u001b[0;34m=\u001b[0m\u001b[0;36m12\u001b[0m\u001b[0;34m)\u001b[0m\u001b[0;34m,\u001b[0m \u001b[0mRow\u001b[0m\u001b[0;34m(\u001b[0m\u001b[0mname\u001b[0m\u001b[0;34m=\u001b[0m\u001b[0;34m'Bob'\u001b[0m\u001b[0;34m,\u001b[0m \u001b[0mage\u001b[0m\u001b[0;34m=\u001b[0m\u001b[0;36m15\u001b[0m\u001b[0;34m)\u001b[0m\u001b[0;34m]\u001b[0m\u001b[0;34m\u001b[0m\u001b[0;34m\u001b[0m\u001b[0m\n\u001b[1;32m   2022\u001b[0m         \"\"\"\n\u001b[0;32m-> 2023\u001b[0;31m         \u001b[0mjdf\u001b[0m \u001b[0;34m=\u001b[0m \u001b[0mself\u001b[0m\u001b[0;34m.\u001b[0m\u001b[0m_jdf\u001b[0m\u001b[0;34m.\u001b[0m\u001b[0mselect\u001b[0m\u001b[0;34m(\u001b[0m\u001b[0mself\u001b[0m\u001b[0;34m.\u001b[0m\u001b[0m_jcols\u001b[0m\u001b[0;34m(\u001b[0m\u001b[0;34m*\u001b[0m\u001b[0mcols\u001b[0m\u001b[0;34m)\u001b[0m\u001b[0;34m)\u001b[0m\u001b[0;34m\u001b[0m\u001b[0;34m\u001b[0m\u001b[0m\n\u001b[0m\u001b[1;32m   2024\u001b[0m         \u001b[0;32mreturn\u001b[0m \u001b[0mDataFrame\u001b[0m\u001b[0;34m(\u001b[0m\u001b[0mjdf\u001b[0m\u001b[0;34m,\u001b[0m \u001b[0mself\u001b[0m\u001b[0;34m.\u001b[0m\u001b[0msparkSession\u001b[0m\u001b[0;34m)\u001b[0m\u001b[0;34m\u001b[0m\u001b[0;34m\u001b[0m\u001b[0m\n\u001b[1;32m   2025\u001b[0m \u001b[0;34m\u001b[0m\u001b[0m\n",
            "\u001b[0;32m/usr/local/lib/python3.7/dist-packages/py4j/java_gateway.py\u001b[0m in \u001b[0;36m__call__\u001b[0;34m(self, *args)\u001b[0m\n\u001b[1;32m   1320\u001b[0m         \u001b[0manswer\u001b[0m \u001b[0;34m=\u001b[0m \u001b[0mself\u001b[0m\u001b[0;34m.\u001b[0m\u001b[0mgateway_client\u001b[0m\u001b[0;34m.\u001b[0m\u001b[0msend_command\u001b[0m\u001b[0;34m(\u001b[0m\u001b[0mcommand\u001b[0m\u001b[0;34m)\u001b[0m\u001b[0;34m\u001b[0m\u001b[0;34m\u001b[0m\u001b[0m\n\u001b[1;32m   1321\u001b[0m         return_value = get_return_value(\n\u001b[0;32m-> 1322\u001b[0;31m             answer, self.gateway_client, self.target_id, self.name)\n\u001b[0m\u001b[1;32m   1323\u001b[0m \u001b[0;34m\u001b[0m\u001b[0m\n\u001b[1;32m   1324\u001b[0m         \u001b[0;32mfor\u001b[0m \u001b[0mtemp_arg\u001b[0m \u001b[0;32min\u001b[0m \u001b[0mtemp_args\u001b[0m\u001b[0;34m:\u001b[0m\u001b[0;34m\u001b[0m\u001b[0;34m\u001b[0m\u001b[0m\n",
            "\u001b[0;32m/usr/local/lib/python3.7/dist-packages/pyspark/sql/utils.py\u001b[0m in \u001b[0;36mdeco\u001b[0;34m(*a, **kw)\u001b[0m\n\u001b[1;32m    194\u001b[0m                 \u001b[0;31m# Hide where the exception came from that shows a non-Pythonic\u001b[0m\u001b[0;34m\u001b[0m\u001b[0;34m\u001b[0m\u001b[0;34m\u001b[0m\u001b[0m\n\u001b[1;32m    195\u001b[0m                 \u001b[0;31m# JVM exception message.\u001b[0m\u001b[0;34m\u001b[0m\u001b[0;34m\u001b[0m\u001b[0;34m\u001b[0m\u001b[0m\n\u001b[0;32m--> 196\u001b[0;31m                 \u001b[0;32mraise\u001b[0m \u001b[0mconverted\u001b[0m \u001b[0;32mfrom\u001b[0m \u001b[0;32mNone\u001b[0m\u001b[0;34m\u001b[0m\u001b[0;34m\u001b[0m\u001b[0m\n\u001b[0m\u001b[1;32m    197\u001b[0m             \u001b[0;32melse\u001b[0m\u001b[0;34m:\u001b[0m\u001b[0;34m\u001b[0m\u001b[0;34m\u001b[0m\u001b[0m\n\u001b[1;32m    198\u001b[0m                 \u001b[0;32mraise\u001b[0m\u001b[0;34m\u001b[0m\u001b[0;34m\u001b[0m\u001b[0m\n",
            "\u001b[0;31mAnalysisException\u001b[0m: Column '_c0' does not exist. Did you mean one of the following? [_c1, _c2, _c3, _c4, _c5, _c6, _c7, _c8, _c9];\n'Project ['_c0, _c1#2359, _c2#2360, _c3#2361, _c4#2362, _c5#2363, _c6#2364, _c7#2365, _c8#2366]\n+- Project [_c1#2359, _c2#2360, _c3#2361, _c4#2362, _c5#2363, _c6#2364, _c7#2365, _c8#2366, _c9#2367]\n   +- Relation [_c0#2358,_c1#2359,_c2#2360,_c3#2361,_c4#2362,_c5#2363,_c6#2364,_c7#2365,_c8#2366,_c9#2367] csv\n"
          ]
        }
      ]
    },
    {
      "cell_type": "code",
      "source": [
        "Y=df.select([\"_c9\"]).show(10)"
      ],
      "metadata": {
        "id": "o9qIMgkw2yad"
      },
      "execution_count": null,
      "outputs": []
    },
    {
      "cell_type": "code",
      "source": [
        "## Second way to get the features - Use an Encoder"
      ],
      "metadata": {
        "id": "se6LbPkR6VKI"
      },
      "execution_count": 209,
      "outputs": []
    },
    {
      "cell_type": "code",
      "source": [
        "from pyspark.ml.feature import VectorAssembler, StringIndexer"
      ],
      "metadata": {
        "id": "WB9BI-KH7mAO"
      },
      "execution_count": 210,
      "outputs": []
    },
    {
      "cell_type": "code",
      "source": [
        "df.select('_c1').distinct().count()"
      ],
      "metadata": {
        "colab": {
          "base_uri": "https://localhost:8080/"
        },
        "id": "7sYJIJG28EvU",
        "outputId": "aad0ff77-cc2c-4aad-a66e-d0989281e920"
      },
      "execution_count": 211,
      "outputs": [
        {
          "output_type": "execute_result",
          "data": {
            "text/plain": [
              "6"
            ]
          },
          "metadata": {},
          "execution_count": 211
        }
      ]
    },
    {
      "cell_type": "code",
      "source": [
        "encoder=StringIndexer(inputCols=['_c1','_c2','_c3','_c4','_c5','_c6','_c7','_c8','_c9'], outputCols=['feature_1','feature_2','feature_3','feature_4','feature_5','feature_6','feature_7','feature_8','classes']).fit(df)"
      ],
      "metadata": {
        "id": "H6gaWmVl8y_X"
      },
      "execution_count": 212,
      "outputs": []
    },
    {
      "cell_type": "code",
      "source": [
        "df_transform=encoder.transform(df)"
      ],
      "metadata": {
        "id": "YjWASQ-w8zIO"
      },
      "execution_count": 213,
      "outputs": []
    },
    {
      "cell_type": "code",
      "source": [
        "df_transform.show(10)"
      ],
      "metadata": {
        "colab": {
          "base_uri": "https://localhost:8080/"
        },
        "id": "MrxiphEH8zLF",
        "outputId": "64391dcc-94c4-4273-a7c0-c1736ec08bb6"
      },
      "execution_count": 214,
      "outputs": [
        {
          "output_type": "stream",
          "name": "stdout",
          "text": [
            "+-----+-------+-----+---+---+---+-----+---------+---+---------+---------+---------+---------+---------+---------+---------+---------+-------+\n",
            "|  _c1|    _c2|  _c3|_c4|_c5|_c6|  _c7|      _c8|_c9|feature_1|feature_2|feature_3|feature_4|feature_5|feature_6|feature_7|feature_8|classes|\n",
            "+-----+-------+-----+---+---+---+-----+---------+---+---------+---------+---------+---------+---------+---------+---------+---------+-------+\n",
            "|30-39|premeno|30-34|0-2| no|  3| left| left_low| no|      3.0|      0.0|      0.0|      0.0|      0.0|      1.0|      0.0|      0.0|    0.0|\n",
            "|40-49|premeno|20-24|0-2| no|  2|right| right_up| no|      1.0|      0.0|      2.0|      0.0|      0.0|      0.0|      1.0|      2.0|    0.0|\n",
            "|40-49|premeno|20-24|0-2| no|  2| left| left_low| no|      1.0|      0.0|      2.0|      0.0|      0.0|      0.0|      0.0|      0.0|    0.0|\n",
            "|60-69|   ge40|15-19|0-2| no|  2|right|  left_up| no|      2.0|      1.0|      3.0|      0.0|      0.0|      0.0|      1.0|      1.0|    0.0|\n",
            "|40-49|premeno|  0-4|0-2| no|  2|right|right_low| no|      1.0|      0.0|      7.0|      0.0|      0.0|      0.0|      1.0|      3.0|    0.0|\n",
            "|60-69|   ge40|15-19|0-2| no|  2| left| left_low| no|      2.0|      1.0|      3.0|      0.0|      0.0|      0.0|      0.0|      0.0|    0.0|\n",
            "|50-59|premeno|25-29|0-2| no|  2| left| left_low| no|      0.0|      0.0|      1.0|      0.0|      0.0|      0.0|      0.0|      0.0|    0.0|\n",
            "|60-69|   ge40|20-24|0-2| no|  1| left| left_low| no|      2.0|      1.0|      2.0|      0.0|      0.0|      2.0|      0.0|      0.0|    0.0|\n",
            "|40-49|premeno|50-54|0-2| no|  2| left| left_low| no|      1.0|      0.0|      8.0|      0.0|      0.0|      0.0|      0.0|      0.0|    0.0|\n",
            "|40-49|premeno|20-24|0-2| no|  2|right|  left_up| no|      1.0|      0.0|      2.0|      0.0|      0.0|      0.0|      1.0|      1.0|    0.0|\n",
            "+-----+-------+-----+---+---+---+-----+---------+---+---------+---------+---------+---------+---------+---------+---------+---------+-------+\n",
            "only showing top 10 rows\n",
            "\n"
          ]
        }
      ]
    },
    {
      "cell_type": "code",
      "source": [
        "print(df_transform.columns)"
      ],
      "metadata": {
        "colab": {
          "base_uri": "https://localhost:8080/"
        },
        "id": "CXexh0gLAtDH",
        "outputId": "e2f1182e-6b18-44a2-f0c7-ff68834f809a"
      },
      "execution_count": 215,
      "outputs": [
        {
          "output_type": "stream",
          "name": "stdout",
          "text": [
            "['_c1', '_c2', '_c3', '_c4', '_c5', '_c6', '_c7', '_c8', '_c9', 'feature_1', 'feature_2', 'feature_3', 'feature_4', 'feature_5', 'feature_6', 'feature_7', 'feature_8', 'classes']\n"
          ]
        }
      ]
    },
    {
      "cell_type": "code",
      "source": [
        "input_features=['feature_1', 'feature_2', 'feature_3', 'feature_4', 'feature_5', 'feature_6', 'feature_7', 'feature_8', 'classes']\n"
      ],
      "metadata": {
        "id": "4GkcrTJ_BRsu"
      },
      "execution_count": 216,
      "outputs": []
    },
    {
      "cell_type": "code",
      "source": [
        "df2= df_transform.select(input_features)"
      ],
      "metadata": {
        "id": "X-CyZTJpCe_b"
      },
      "execution_count": 217,
      "outputs": []
    },
    {
      "cell_type": "code",
      "source": [
        "print(df2.count())"
      ],
      "metadata": {
        "colab": {
          "base_uri": "https://localhost:8080/"
        },
        "id": "AtmsWBOnDYd_",
        "outputId": "01c6f70a-d553-4b64-d69a-2cb31aea5ab6"
      },
      "execution_count": 218,
      "outputs": [
        {
          "output_type": "stream",
          "name": "stdout",
          "text": [
            "286\n"
          ]
        }
      ]
    },
    {
      "cell_type": "code",
      "source": [
        "df2= df2.toPandas().replace('NA',0).astype(float)"
      ],
      "metadata": {
        "id": "7CzvtMo8CDrj"
      },
      "execution_count": 219,
      "outputs": []
    },
    {
      "cell_type": "code",
      "source": [
        "df2"
      ],
      "metadata": {
        "colab": {
          "base_uri": "https://localhost:8080/",
          "height": 424
        },
        "id": "3LFWtzDCDxjA",
        "outputId": "17af9a80-db34-4efe-970b-6680a082d20f"
      },
      "execution_count": 220,
      "outputs": [
        {
          "output_type": "execute_result",
          "data": {
            "text/plain": [
              "     feature_1  feature_2  feature_3  feature_4  feature_5  feature_6  \\\n",
              "0          3.0        0.0        0.0        0.0        0.0        1.0   \n",
              "1          1.0        0.0        2.0        0.0        0.0        0.0   \n",
              "2          1.0        0.0        2.0        0.0        0.0        0.0   \n",
              "3          2.0        1.0        3.0        0.0        0.0        0.0   \n",
              "4          1.0        0.0        7.0        0.0        0.0        0.0   \n",
              "..         ...        ...        ...        ...        ...        ...   \n",
              "281        3.0        0.0        0.0        0.0        0.0        0.0   \n",
              "282        3.0        0.0        2.0        0.0        0.0        1.0   \n",
              "283        2.0        1.0        2.0        0.0        0.0        2.0   \n",
              "284        1.0        1.0        0.0        1.0        0.0        1.0   \n",
              "285        0.0        1.0        0.0        1.0        0.0        1.0   \n",
              "\n",
              "     feature_7  feature_8  classes  \n",
              "0          0.0        0.0      0.0  \n",
              "1          1.0        2.0      0.0  \n",
              "2          0.0        0.0      0.0  \n",
              "3          1.0        1.0      0.0  \n",
              "4          1.0        3.0      0.0  \n",
              "..         ...        ...      ...  \n",
              "281        0.0        1.0      0.0  \n",
              "282        0.0        1.0      1.0  \n",
              "283        1.0        1.0      0.0  \n",
              "284        0.0        0.0      0.0  \n",
              "285        0.0        0.0      0.0  \n",
              "\n",
              "[286 rows x 9 columns]"
            ],
            "text/html": [
              "\n",
              "  <div id=\"df-48355366-51e4-40ea-a5a1-4790705d2c5a\">\n",
              "    <div class=\"colab-df-container\">\n",
              "      <div>\n",
              "<style scoped>\n",
              "    .dataframe tbody tr th:only-of-type {\n",
              "        vertical-align: middle;\n",
              "    }\n",
              "\n",
              "    .dataframe tbody tr th {\n",
              "        vertical-align: top;\n",
              "    }\n",
              "\n",
              "    .dataframe thead th {\n",
              "        text-align: right;\n",
              "    }\n",
              "</style>\n",
              "<table border=\"1\" class=\"dataframe\">\n",
              "  <thead>\n",
              "    <tr style=\"text-align: right;\">\n",
              "      <th></th>\n",
              "      <th>feature_1</th>\n",
              "      <th>feature_2</th>\n",
              "      <th>feature_3</th>\n",
              "      <th>feature_4</th>\n",
              "      <th>feature_5</th>\n",
              "      <th>feature_6</th>\n",
              "      <th>feature_7</th>\n",
              "      <th>feature_8</th>\n",
              "      <th>classes</th>\n",
              "    </tr>\n",
              "  </thead>\n",
              "  <tbody>\n",
              "    <tr>\n",
              "      <th>0</th>\n",
              "      <td>3.0</td>\n",
              "      <td>0.0</td>\n",
              "      <td>0.0</td>\n",
              "      <td>0.0</td>\n",
              "      <td>0.0</td>\n",
              "      <td>1.0</td>\n",
              "      <td>0.0</td>\n",
              "      <td>0.0</td>\n",
              "      <td>0.0</td>\n",
              "    </tr>\n",
              "    <tr>\n",
              "      <th>1</th>\n",
              "      <td>1.0</td>\n",
              "      <td>0.0</td>\n",
              "      <td>2.0</td>\n",
              "      <td>0.0</td>\n",
              "      <td>0.0</td>\n",
              "      <td>0.0</td>\n",
              "      <td>1.0</td>\n",
              "      <td>2.0</td>\n",
              "      <td>0.0</td>\n",
              "    </tr>\n",
              "    <tr>\n",
              "      <th>2</th>\n",
              "      <td>1.0</td>\n",
              "      <td>0.0</td>\n",
              "      <td>2.0</td>\n",
              "      <td>0.0</td>\n",
              "      <td>0.0</td>\n",
              "      <td>0.0</td>\n",
              "      <td>0.0</td>\n",
              "      <td>0.0</td>\n",
              "      <td>0.0</td>\n",
              "    </tr>\n",
              "    <tr>\n",
              "      <th>3</th>\n",
              "      <td>2.0</td>\n",
              "      <td>1.0</td>\n",
              "      <td>3.0</td>\n",
              "      <td>0.0</td>\n",
              "      <td>0.0</td>\n",
              "      <td>0.0</td>\n",
              "      <td>1.0</td>\n",
              "      <td>1.0</td>\n",
              "      <td>0.0</td>\n",
              "    </tr>\n",
              "    <tr>\n",
              "      <th>4</th>\n",
              "      <td>1.0</td>\n",
              "      <td>0.0</td>\n",
              "      <td>7.0</td>\n",
              "      <td>0.0</td>\n",
              "      <td>0.0</td>\n",
              "      <td>0.0</td>\n",
              "      <td>1.0</td>\n",
              "      <td>3.0</td>\n",
              "      <td>0.0</td>\n",
              "    </tr>\n",
              "    <tr>\n",
              "      <th>...</th>\n",
              "      <td>...</td>\n",
              "      <td>...</td>\n",
              "      <td>...</td>\n",
              "      <td>...</td>\n",
              "      <td>...</td>\n",
              "      <td>...</td>\n",
              "      <td>...</td>\n",
              "      <td>...</td>\n",
              "      <td>...</td>\n",
              "    </tr>\n",
              "    <tr>\n",
              "      <th>281</th>\n",
              "      <td>3.0</td>\n",
              "      <td>0.0</td>\n",
              "      <td>0.0</td>\n",
              "      <td>0.0</td>\n",
              "      <td>0.0</td>\n",
              "      <td>0.0</td>\n",
              "      <td>0.0</td>\n",
              "      <td>1.0</td>\n",
              "      <td>0.0</td>\n",
              "    </tr>\n",
              "    <tr>\n",
              "      <th>282</th>\n",
              "      <td>3.0</td>\n",
              "      <td>0.0</td>\n",
              "      <td>2.0</td>\n",
              "      <td>0.0</td>\n",
              "      <td>0.0</td>\n",
              "      <td>1.0</td>\n",
              "      <td>0.0</td>\n",
              "      <td>1.0</td>\n",
              "      <td>1.0</td>\n",
              "    </tr>\n",
              "    <tr>\n",
              "      <th>283</th>\n",
              "      <td>2.0</td>\n",
              "      <td>1.0</td>\n",
              "      <td>2.0</td>\n",
              "      <td>0.0</td>\n",
              "      <td>0.0</td>\n",
              "      <td>2.0</td>\n",
              "      <td>1.0</td>\n",
              "      <td>1.0</td>\n",
              "      <td>0.0</td>\n",
              "    </tr>\n",
              "    <tr>\n",
              "      <th>284</th>\n",
              "      <td>1.0</td>\n",
              "      <td>1.0</td>\n",
              "      <td>0.0</td>\n",
              "      <td>1.0</td>\n",
              "      <td>0.0</td>\n",
              "      <td>1.0</td>\n",
              "      <td>0.0</td>\n",
              "      <td>0.0</td>\n",
              "      <td>0.0</td>\n",
              "    </tr>\n",
              "    <tr>\n",
              "      <th>285</th>\n",
              "      <td>0.0</td>\n",
              "      <td>1.0</td>\n",
              "      <td>0.0</td>\n",
              "      <td>1.0</td>\n",
              "      <td>0.0</td>\n",
              "      <td>1.0</td>\n",
              "      <td>0.0</td>\n",
              "      <td>0.0</td>\n",
              "      <td>0.0</td>\n",
              "    </tr>\n",
              "  </tbody>\n",
              "</table>\n",
              "<p>286 rows × 9 columns</p>\n",
              "</div>\n",
              "      <button class=\"colab-df-convert\" onclick=\"convertToInteractive('df-48355366-51e4-40ea-a5a1-4790705d2c5a')\"\n",
              "              title=\"Convert this dataframe to an interactive table.\"\n",
              "              style=\"display:none;\">\n",
              "        \n",
              "  <svg xmlns=\"http://www.w3.org/2000/svg\" height=\"24px\"viewBox=\"0 0 24 24\"\n",
              "       width=\"24px\">\n",
              "    <path d=\"M0 0h24v24H0V0z\" fill=\"none\"/>\n",
              "    <path d=\"M18.56 5.44l.94 2.06.94-2.06 2.06-.94-2.06-.94-.94-2.06-.94 2.06-2.06.94zm-11 1L8.5 8.5l.94-2.06 2.06-.94-2.06-.94L8.5 2.5l-.94 2.06-2.06.94zm10 10l.94 2.06.94-2.06 2.06-.94-2.06-.94-.94-2.06-.94 2.06-2.06.94z\"/><path d=\"M17.41 7.96l-1.37-1.37c-.4-.4-.92-.59-1.43-.59-.52 0-1.04.2-1.43.59L10.3 9.45l-7.72 7.72c-.78.78-.78 2.05 0 2.83L4 21.41c.39.39.9.59 1.41.59.51 0 1.02-.2 1.41-.59l7.78-7.78 2.81-2.81c.8-.78.8-2.07 0-2.86zM5.41 20L4 18.59l7.72-7.72 1.47 1.35L5.41 20z\"/>\n",
              "  </svg>\n",
              "      </button>\n",
              "      \n",
              "  <style>\n",
              "    .colab-df-container {\n",
              "      display:flex;\n",
              "      flex-wrap:wrap;\n",
              "      gap: 12px;\n",
              "    }\n",
              "\n",
              "    .colab-df-convert {\n",
              "      background-color: #E8F0FE;\n",
              "      border: none;\n",
              "      border-radius: 50%;\n",
              "      cursor: pointer;\n",
              "      display: none;\n",
              "      fill: #1967D2;\n",
              "      height: 32px;\n",
              "      padding: 0 0 0 0;\n",
              "      width: 32px;\n",
              "    }\n",
              "\n",
              "    .colab-df-convert:hover {\n",
              "      background-color: #E2EBFA;\n",
              "      box-shadow: 0px 1px 2px rgba(60, 64, 67, 0.3), 0px 1px 3px 1px rgba(60, 64, 67, 0.15);\n",
              "      fill: #174EA6;\n",
              "    }\n",
              "\n",
              "    [theme=dark] .colab-df-convert {\n",
              "      background-color: #3B4455;\n",
              "      fill: #D2E3FC;\n",
              "    }\n",
              "\n",
              "    [theme=dark] .colab-df-convert:hover {\n",
              "      background-color: #434B5C;\n",
              "      box-shadow: 0px 1px 3px 1px rgba(0, 0, 0, 0.15);\n",
              "      filter: drop-shadow(0px 1px 2px rgba(0, 0, 0, 0.3));\n",
              "      fill: #FFFFFF;\n",
              "    }\n",
              "  </style>\n",
              "\n",
              "      <script>\n",
              "        const buttonEl =\n",
              "          document.querySelector('#df-48355366-51e4-40ea-a5a1-4790705d2c5a button.colab-df-convert');\n",
              "        buttonEl.style.display =\n",
              "          google.colab.kernel.accessAllowed ? 'block' : 'none';\n",
              "\n",
              "        async function convertToInteractive(key) {\n",
              "          const element = document.querySelector('#df-48355366-51e4-40ea-a5a1-4790705d2c5a');\n",
              "          const dataTable =\n",
              "            await google.colab.kernel.invokeFunction('convertToInteractive',\n",
              "                                                     [key], {});\n",
              "          if (!dataTable) return;\n",
              "\n",
              "          const docLinkHtml = 'Like what you see? Visit the ' +\n",
              "            '<a target=\"_blank\" href=https://colab.research.google.com/notebooks/data_table.ipynb>data table notebook</a>'\n",
              "            + ' to learn more about interactive tables.';\n",
              "          element.innerHTML = '';\n",
              "          dataTable['output_type'] = 'display_data';\n",
              "          await google.colab.output.renderOutput(dataTable, element);\n",
              "          const docLink = document.createElement('div');\n",
              "          docLink.innerHTML = docLinkHtml;\n",
              "          element.appendChild(docLink);\n",
              "        }\n",
              "      </script>\n",
              "    </div>\n",
              "  </div>\n",
              "  "
            ]
          },
          "metadata": {},
          "execution_count": 220
        }
      ]
    },
    {
      "cell_type": "code",
      "source": [
        "new_df2= spark.createDataFrame(df2)"
      ],
      "metadata": {
        "id": "MZquLiYfEOdz"
      },
      "execution_count": 221,
      "outputs": []
    },
    {
      "cell_type": "code",
      "source": [
        "new_df2.show()"
      ],
      "metadata": {
        "colab": {
          "base_uri": "https://localhost:8080/"
        },
        "id": "FIoKoqXrEWJX",
        "outputId": "60a1668b-229a-457b-e63a-97a3929e8cd7"
      },
      "execution_count": 222,
      "outputs": [
        {
          "output_type": "stream",
          "name": "stdout",
          "text": [
            "+---------+---------+---------+---------+---------+---------+---------+---------+-------+\n",
            "|feature_1|feature_2|feature_3|feature_4|feature_5|feature_6|feature_7|feature_8|classes|\n",
            "+---------+---------+---------+---------+---------+---------+---------+---------+-------+\n",
            "|      3.0|      0.0|      0.0|      0.0|      0.0|      1.0|      0.0|      0.0|    0.0|\n",
            "|      1.0|      0.0|      2.0|      0.0|      0.0|      0.0|      1.0|      2.0|    0.0|\n",
            "|      1.0|      0.0|      2.0|      0.0|      0.0|      0.0|      0.0|      0.0|    0.0|\n",
            "|      2.0|      1.0|      3.0|      0.0|      0.0|      0.0|      1.0|      1.0|    0.0|\n",
            "|      1.0|      0.0|      7.0|      0.0|      0.0|      0.0|      1.0|      3.0|    0.0|\n",
            "|      2.0|      1.0|      3.0|      0.0|      0.0|      0.0|      0.0|      0.0|    0.0|\n",
            "|      0.0|      0.0|      1.0|      0.0|      0.0|      0.0|      0.0|      0.0|    0.0|\n",
            "|      2.0|      1.0|      2.0|      0.0|      0.0|      2.0|      0.0|      0.0|    0.0|\n",
            "|      1.0|      0.0|      8.0|      0.0|      0.0|      0.0|      0.0|      0.0|    0.0|\n",
            "|      1.0|      0.0|      2.0|      0.0|      0.0|      0.0|      1.0|      1.0|    0.0|\n",
            "|      1.0|      0.0|      7.0|      0.0|      0.0|      1.0|      0.0|      4.0|    0.0|\n",
            "|      0.0|      1.0|      1.0|      0.0|      0.0|      0.0|      0.0|      0.0|    0.0|\n",
            "|      2.0|      2.0|      4.0|      0.0|      0.0|      2.0|      0.0|      2.0|    0.0|\n",
            "|      0.0|      1.0|      1.0|      0.0|      0.0|      1.0|      0.0|      2.0|    0.0|\n",
            "|      1.0|      0.0|      0.0|      0.0|      0.0|      1.0|      0.0|      1.0|    0.0|\n",
            "|      2.0|      2.0|      0.0|      0.0|      0.0|      2.0|      0.0|      0.0|    0.0|\n",
            "|      1.0|      0.0|      3.0|      0.0|      0.0|      0.0|      0.0|      0.0|    0.0|\n",
            "|      0.0|      0.0|      0.0|      0.0|      0.0|      1.0|      0.0|      0.0|    0.0|\n",
            "|      2.0|      1.0|      0.0|      0.0|      0.0|      1.0|      0.0|      0.0|    0.0|\n",
            "|      0.0|      1.0|      0.0|      0.0|      0.0|      2.0|      1.0|      2.0|    0.0|\n",
            "+---------+---------+---------+---------+---------+---------+---------+---------+-------+\n",
            "only showing top 20 rows\n",
            "\n"
          ]
        }
      ]
    },
    {
      "cell_type": "code",
      "source": [
        "vec_assembler=VectorAssembler(inputCols=input_features, outputCol='features')\n"
      ],
      "metadata": {
        "id": "S6_GBMrF8zOG"
      },
      "execution_count": 197,
      "outputs": []
    },
    {
      "cell_type": "code",
      "source": [
        "vec_df=vec_assembler.transform(new_df2)"
      ],
      "metadata": {
        "id": "_rO5rfxIBnQ6"
      },
      "execution_count": 223,
      "outputs": []
    },
    {
      "cell_type": "code",
      "source": [
        "vec_df.show()"
      ],
      "metadata": {
        "colab": {
          "base_uri": "https://localhost:8080/"
        },
        "id": "znPfHaxGGD_l",
        "outputId": "66e5801e-bf21-45a6-caf9-4ceda4c4ddc7"
      },
      "execution_count": 224,
      "outputs": [
        {
          "output_type": "stream",
          "name": "stdout",
          "text": [
            "+---------+---------+---------+---------+---------+---------+---------+---------+-------+--------------------+\n",
            "|feature_1|feature_2|feature_3|feature_4|feature_5|feature_6|feature_7|feature_8|classes|            features|\n",
            "+---------+---------+---------+---------+---------+---------+---------+---------+-------+--------------------+\n",
            "|      3.0|      0.0|      0.0|      0.0|      0.0|      1.0|      0.0|      0.0|    0.0| (9,[0,5],[3.0,1.0])|\n",
            "|      1.0|      0.0|      2.0|      0.0|      0.0|      0.0|      1.0|      2.0|    0.0|(9,[0,2,6,7],[1.0...|\n",
            "|      1.0|      0.0|      2.0|      0.0|      0.0|      0.0|      0.0|      0.0|    0.0| (9,[0,2],[1.0,2.0])|\n",
            "|      2.0|      1.0|      3.0|      0.0|      0.0|      0.0|      1.0|      1.0|    0.0|[2.0,1.0,3.0,0.0,...|\n",
            "|      1.0|      0.0|      7.0|      0.0|      0.0|      0.0|      1.0|      3.0|    0.0|(9,[0,2,6,7],[1.0...|\n",
            "|      2.0|      1.0|      3.0|      0.0|      0.0|      0.0|      0.0|      0.0|    0.0|(9,[0,1,2],[2.0,1...|\n",
            "|      0.0|      0.0|      1.0|      0.0|      0.0|      0.0|      0.0|      0.0|    0.0|       (9,[2],[1.0])|\n",
            "|      2.0|      1.0|      2.0|      0.0|      0.0|      2.0|      0.0|      0.0|    0.0|(9,[0,1,2,5],[2.0...|\n",
            "|      1.0|      0.0|      8.0|      0.0|      0.0|      0.0|      0.0|      0.0|    0.0| (9,[0,2],[1.0,8.0])|\n",
            "|      1.0|      0.0|      2.0|      0.0|      0.0|      0.0|      1.0|      1.0|    0.0|(9,[0,2,6,7],[1.0...|\n",
            "|      1.0|      0.0|      7.0|      0.0|      0.0|      1.0|      0.0|      4.0|    0.0|(9,[0,2,5,7],[1.0...|\n",
            "|      0.0|      1.0|      1.0|      0.0|      0.0|      0.0|      0.0|      0.0|    0.0| (9,[1,2],[1.0,1.0])|\n",
            "|      2.0|      2.0|      4.0|      0.0|      0.0|      2.0|      0.0|      2.0|    0.0|[2.0,2.0,4.0,0.0,...|\n",
            "|      0.0|      1.0|      1.0|      0.0|      0.0|      1.0|      0.0|      2.0|    0.0|(9,[1,2,5,7],[1.0...|\n",
            "|      1.0|      0.0|      0.0|      0.0|      0.0|      1.0|      0.0|      1.0|    0.0|(9,[0,5,7],[1.0,1...|\n",
            "|      2.0|      2.0|      0.0|      0.0|      0.0|      2.0|      0.0|      0.0|    0.0|(9,[0,1,5],[2.0,2...|\n",
            "|      1.0|      0.0|      3.0|      0.0|      0.0|      0.0|      0.0|      0.0|    0.0| (9,[0,2],[1.0,3.0])|\n",
            "|      0.0|      0.0|      0.0|      0.0|      0.0|      1.0|      0.0|      0.0|    0.0|       (9,[5],[1.0])|\n",
            "|      2.0|      1.0|      0.0|      0.0|      0.0|      1.0|      0.0|      0.0|    0.0|(9,[0,1,5],[2.0,1...|\n",
            "|      0.0|      1.0|      0.0|      0.0|      0.0|      2.0|      1.0|      2.0|    0.0|(9,[1,5,6,7],[1.0...|\n",
            "+---------+---------+---------+---------+---------+---------+---------+---------+-------+--------------------+\n",
            "only showing top 20 rows\n",
            "\n"
          ]
        }
      ]
    },
    {
      "cell_type": "code",
      "source": [
        "### Split vector into Train and Test"
      ],
      "metadata": {
        "id": "ZcfRQuk8GKlP"
      },
      "execution_count": 226,
      "outputs": []
    },
    {
      "cell_type": "code",
      "source": [
        "train_df, test_df = vec_df.randomSplit([0.7,0.3], seed=48)"
      ],
      "metadata": {
        "id": "xZY1ZU-bGQmT"
      },
      "execution_count": 241,
      "outputs": []
    },
    {
      "cell_type": "code",
      "source": [
        "train_df.show()"
      ],
      "metadata": {
        "colab": {
          "base_uri": "https://localhost:8080/"
        },
        "id": "FNdcrJWgGel6",
        "outputId": "d9160fa9-d4a6-4687-a73b-2dd3c68019a3"
      },
      "execution_count": 242,
      "outputs": [
        {
          "output_type": "stream",
          "name": "stdout",
          "text": [
            "+---------+---------+---------+---------+---------+---------+---------+---------+-------+--------------------+\n",
            "|feature_1|feature_2|feature_3|feature_4|feature_5|feature_6|feature_7|feature_8|classes|            features|\n",
            "+---------+---------+---------+---------+---------+---------+---------+---------+-------+--------------------+\n",
            "|      0.0|      0.0|      0.0|      0.0|      0.0|      1.0|      0.0|      0.0|    0.0|       (9,[5],[1.0])|\n",
            "|      0.0|      0.0|      1.0|      0.0|      0.0|      0.0|      1.0|      3.0|    0.0|(9,[2,6,7],[1.0,1...|\n",
            "|      0.0|      0.0|      1.0|      0.0|      1.0|      0.0|      0.0|      1.0|    0.0|(9,[2,4,7],[1.0,1...|\n",
            "|      0.0|      0.0|      2.0|      0.0|      0.0|      2.0|      0.0|      0.0|    0.0| (9,[2,5],[2.0,2.0])|\n",
            "|      0.0|      0.0|      3.0|      0.0|      0.0|      2.0|      0.0|      0.0|    0.0| (9,[2,5],[3.0,2.0])|\n",
            "|      0.0|      0.0|      4.0|      0.0|      0.0|      1.0|      0.0|      0.0|    0.0| (9,[2,5],[4.0,1.0])|\n",
            "|      0.0|      0.0|      4.0|      0.0|      0.0|      2.0|      0.0|      0.0|    0.0| (9,[2,5],[4.0,2.0])|\n",
            "|      0.0|      0.0|      6.0|      0.0|      0.0|      0.0|      1.0|      1.0|    0.0|(9,[2,6,7],[6.0,1...|\n",
            "|      0.0|      1.0|      0.0|      0.0|      0.0|      1.0|      1.0|      0.0|    0.0|(9,[1,5,6],[1.0,1...|\n",
            "|      0.0|      1.0|      0.0|      0.0|      0.0|      2.0|      1.0|      0.0|    0.0|(9,[1,5,6],[1.0,2...|\n",
            "|      0.0|      1.0|      0.0|      0.0|      0.0|      2.0|      1.0|      2.0|    0.0|(9,[1,5,6,7],[1.0...|\n",
            "|      0.0|      1.0|      1.0|      0.0|      0.0|      0.0|      0.0|      0.0|    0.0| (9,[1,2],[1.0,1.0])|\n",
            "|      0.0|      1.0|      1.0|      0.0|      0.0|      1.0|      0.0|      2.0|    0.0|(9,[1,2,5,7],[1.0...|\n",
            "|      0.0|      1.0|      1.0|      0.0|      0.0|      2.0|      0.0|      0.0|    0.0|(9,[1,2,5],[1.0,1...|\n",
            "|      0.0|      1.0|      2.0|      0.0|      0.0|      0.0|      1.0|      1.0|    0.0|(9,[1,2,6,7],[1.0...|\n",
            "|      0.0|      1.0|      2.0|      0.0|      0.0|      1.0|      0.0|      1.0|    0.0|(9,[1,2,5,7],[1.0...|\n",
            "|      0.0|      1.0|      2.0|      0.0|      0.0|      1.0|      0.0|      1.0|    0.0|(9,[1,2,5,7],[1.0...|\n",
            "|      0.0|      1.0|      2.0|      0.0|      0.0|      1.0|      1.0|      1.0|    0.0|[0.0,1.0,2.0,0.0,...|\n",
            "|      0.0|      1.0|      2.0|      0.0|      0.0|      2.0|      1.0|      0.0|    0.0|(9,[1,2,5,6],[1.0...|\n",
            "|      0.0|      1.0|      3.0|      0.0|      0.0|      2.0|      1.0|      4.0|    0.0|[0.0,1.0,3.0,0.0,...|\n",
            "+---------+---------+---------+---------+---------+---------+---------+---------+-------+--------------------+\n",
            "only showing top 20 rows\n",
            "\n"
          ]
        }
      ]
    },
    {
      "cell_type": "code",
      "source": [
        "from pyspark.sql import SQLContext\n",
        "from pyspark.ml.classification import DecisionTreeClassifier\n",
        "\n",
        "# Every record of this DataFrame contains the label and\n",
        "# features represented by a vector.\n",
        "##df = SQLContext.createDataFrame(df, [\"label\", \"features\"])\n",
        "\n",
        "# Set parameters for the algorithm.\n",
        "# Here, we limit the number of iterations to 10.\n",
        "lr = DecisionTreeClassifier(maxDepth=5, labelCol=\"classes\", featuresCol=\"features\")\n",
        "\n",
        "# Fit the model to the data.\n",
        "model = lr.fit(train_df)\n",
        "\n",
        "# Given a dataset, predict each point's label, and show the results.\n",
        "y_pred=model.transform(test_df)\n"
      ],
      "metadata": {
        "id": "jMzbIOJdxDOD"
      },
      "execution_count": 254,
      "outputs": []
    },
    {
      "cell_type": "code",
      "source": [
        "y_pred.show()"
      ],
      "metadata": {
        "colab": {
          "base_uri": "https://localhost:8080/"
        },
        "id": "gwh8zIZSOFT-",
        "outputId": "c1077931-f5be-4de6-e060-f733aee4defb"
      },
      "execution_count": 260,
      "outputs": [
        {
          "output_type": "stream",
          "name": "stdout",
          "text": [
            "+---------+---------+---------+---------+---------+---------+---------+---------+-------+--------------------+-------------+-----------+----------+\n",
            "|feature_1|feature_2|feature_3|feature_4|feature_5|feature_6|feature_7|feature_8|classes|            features|rawPrediction|probability|prediction|\n",
            "+---------+---------+---------+---------+---------+---------+---------+---------+-------+--------------------+-------------+-----------+----------+\n",
            "|      0.0|      0.0|      1.0|      0.0|      0.0|      0.0|      0.0|      0.0|    0.0|       (9,[2],[1.0])|  [156.0,0.0]|  [1.0,0.0]|       0.0|\n",
            "|      0.0|      0.0|      1.0|      0.0|      0.0|      0.0|      0.0|      0.0|    0.0|       (9,[2],[1.0])|  [156.0,0.0]|  [1.0,0.0]|       0.0|\n",
            "|      0.0|      0.0|      1.0|      0.0|      0.0|      2.0|      1.0|      1.0|    0.0|(9,[2,5,6,7],[1.0...|  [156.0,0.0]|  [1.0,0.0]|       0.0|\n",
            "|      0.0|      0.0|      2.0|      1.0|      1.0|      0.0|      0.0|      0.0|    0.0|(9,[2,3,4],[2.0,1...|  [156.0,0.0]|  [1.0,0.0]|       0.0|\n",
            "|      0.0|      0.0|      3.0|      0.0|      0.0|      0.0|      1.0|      0.0|    0.0| (9,[2,6],[3.0,1.0])|  [156.0,0.0]|  [1.0,0.0]|       0.0|\n",
            "|      0.0|      0.0|      3.0|      0.0|      0.0|      0.0|      1.0|      3.0|    0.0|(9,[2,6,7],[3.0,1...|  [156.0,0.0]|  [1.0,0.0]|       0.0|\n",
            "|      0.0|      0.0|      5.0|      0.0|      0.0|      0.0|      0.0|      1.0|    0.0| (9,[2,7],[5.0,1.0])|  [156.0,0.0]|  [1.0,0.0]|       0.0|\n",
            "|      0.0|      1.0|      0.0|      0.0|      0.0|      2.0|      0.0|      1.0|    0.0|(9,[1,5,7],[1.0,2...|  [156.0,0.0]|  [1.0,0.0]|       0.0|\n",
            "|      0.0|      1.0|      1.0|      0.0|      0.0|      0.0|      1.0|      1.0|    0.0|(9,[1,2,6,7],[1.0...|  [156.0,0.0]|  [1.0,0.0]|       0.0|\n",
            "|      0.0|      1.0|      3.0|      0.0|      0.0|      0.0|      1.0|      0.0|    0.0|(9,[1,2,6],[1.0,3...|  [156.0,0.0]|  [1.0,0.0]|       0.0|\n",
            "|      0.0|      1.0|      3.0|      0.0|      0.0|      0.0|      1.0|      2.0|    0.0|(9,[1,2,6,7],[1.0...|  [156.0,0.0]|  [1.0,0.0]|       0.0|\n",
            "|      0.0|      1.0|      4.0|      0.0|      0.0|      0.0|      1.0|      0.0|    0.0|(9,[1,2,6],[1.0,4...|  [156.0,0.0]|  [1.0,0.0]|       0.0|\n",
            "|      0.0|      1.0|      4.0|      0.0|      0.0|      2.0|      0.0|      0.0|    0.0|(9,[1,2,5],[1.0,4...|  [156.0,0.0]|  [1.0,0.0]|       0.0|\n",
            "|      0.0|      1.0|      5.0|      0.0|      0.0|      0.0|      0.0|      0.0|    0.0| (9,[1,2],[1.0,5.0])|  [156.0,0.0]|  [1.0,0.0]|       0.0|\n",
            "|      0.0|      1.0|      8.0|      0.0|      0.0|      2.0|      1.0|      2.0|    0.0|[0.0,1.0,8.0,0.0,...|  [156.0,0.0]|  [1.0,0.0]|       0.0|\n",
            "|      1.0|      0.0|      0.0|      0.0|      0.0|      0.0|      1.0|      3.0|    0.0|(9,[0,6,7],[1.0,1...|  [156.0,0.0]|  [1.0,0.0]|       0.0|\n",
            "|      1.0|      0.0|      0.0|      0.0|      0.0|      1.0|      0.0|      1.0|    0.0|(9,[0,5,7],[1.0,1...|  [156.0,0.0]|  [1.0,0.0]|       0.0|\n",
            "|      1.0|      0.0|      1.0|      0.0|      0.0|      2.0|      1.0|      3.0|    0.0|[1.0,0.0,1.0,0.0,...|  [156.0,0.0]|  [1.0,0.0]|       0.0|\n",
            "|      1.0|      0.0|      2.0|      0.0|      0.0|      0.0|      0.0|      0.0|    0.0| (9,[0,2],[1.0,2.0])|  [156.0,0.0]|  [1.0,0.0]|       0.0|\n",
            "|      1.0|      0.0|      2.0|      0.0|      0.0|      0.0|      0.0|      1.0|    0.0|(9,[0,2,7],[1.0,2...|  [156.0,0.0]|  [1.0,0.0]|       0.0|\n",
            "+---------+---------+---------+---------+---------+---------+---------+---------+-------+--------------------+-------------+-----------+----------+\n",
            "only showing top 20 rows\n",
            "\n"
          ]
        }
      ]
    },
    {
      "cell_type": "code",
      "source": [
        "from pyspark.ml.evaluation import MulticlassClassificationEvaluator\n",
        "\n",
        "\n",
        "evaluator =MulticlassClassificationEvaluator(labelCol='classes', metricName='accuracy')"
      ],
      "metadata": {
        "id": "O8z88ndzJO1p"
      },
      "execution_count": 261,
      "outputs": []
    },
    {
      "cell_type": "code",
      "source": [
        "evaluator.evaluate(y_pred)"
      ],
      "metadata": {
        "colab": {
          "base_uri": "https://localhost:8080/"
        },
        "id": "CVhhRTwLNp4g",
        "outputId": "264ead32-d23e-4def-ad36-e6bf79786772"
      },
      "execution_count": 262,
      "outputs": [
        {
          "output_type": "execute_result",
          "data": {
            "text/plain": [
              "1.0"
            ]
          },
          "metadata": {},
          "execution_count": 262
        }
      ]
    },
    {
      "cell_type": "code",
      "source": [
        "from pyspark.mllib.evaluation import MulticlassMetrics"
      ],
      "metadata": {
        "id": "OIyMlUUsOPTt"
      },
      "execution_count": 266,
      "outputs": []
    },
    {
      "cell_type": "code",
      "source": [
        "evaluator = MulticlassMetrics(y_pred['classes','prediction'].rdd)"
      ],
      "metadata": {
        "colab": {
          "base_uri": "https://localhost:8080/"
        },
        "id": "VWMlbj8HOr7E",
        "outputId": "9d9d28a4-8ca1-4d7f-e8b7-bf2ed9a1fd7f"
      },
      "execution_count": 272,
      "outputs": [
        {
          "output_type": "stream",
          "name": "stderr",
          "text": [
            "/usr/local/lib/python3.7/dist-packages/pyspark/sql/context.py:159: FutureWarning: Deprecated in 3.0.0. Use SparkSession.builder.getOrCreate() instead.\n",
            "  FutureWarning,\n"
          ]
        }
      ]
    },
    {
      "cell_type": "code",
      "source": [
        "print(evaluator.precision(1.0))"
      ],
      "metadata": {
        "colab": {
          "base_uri": "https://localhost:8080/"
        },
        "id": "ehkhSHzxPXGp",
        "outputId": "59b74f6c-c4cf-4511-cfd6-b738ace2b072"
      },
      "execution_count": 284,
      "outputs": [
        {
          "output_type": "stream",
          "name": "stdout",
          "text": [
            "1.0\n"
          ]
        }
      ]
    },
    {
      "cell_type": "code",
      "source": [
        "print(evaluator.confusionMatrix())"
      ],
      "metadata": {
        "colab": {
          "base_uri": "https://localhost:8080/"
        },
        "id": "TcSiYkO2QVyV",
        "outputId": "1b5d9757-9465-4c05-f6fb-5cabaf543200"
      },
      "execution_count": 290,
      "outputs": [
        {
          "output_type": "stream",
          "name": "stdout",
          "text": [
            "DenseMatrix([[62.,  0.],\n",
            "             [ 0., 24.]])\n"
          ]
        }
      ]
    },
    {
      "cell_type": "code",
      "source": [
        "##Save model\n",
        "\n",
        "model.save(\"Decision tree to analyze breast-cancer dataset\")"
      ],
      "metadata": {
        "id": "6nABqKKIQB5f"
      },
      "execution_count": 285,
      "outputs": []
    }
  ]
}